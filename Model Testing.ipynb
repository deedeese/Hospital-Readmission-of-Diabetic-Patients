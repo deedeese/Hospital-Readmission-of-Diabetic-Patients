{
 "cells": [
  {
   "cell_type": "markdown",
   "id": "b9314d51",
   "metadata": {},
   "source": [
    "# Project on Data Sciences and Machine Learning"
   ]
  },
  {
   "cell_type": "markdown",
   "id": "658a7729",
   "metadata": {},
   "source": [
    "## Model Prediction"
   ]
  },
  {
   "cell_type": "code",
   "execution_count": 1,
   "id": "be1a0bac",
   "metadata": {},
   "outputs": [],
   "source": [
    "import pandas as pd\n",
    "\n",
    "import warnings\n",
    "warnings.filterwarnings(\"ignore\")\n",
    "\n",
    "import joblib"
   ]
  },
  {
   "cell_type": "markdown",
   "id": "6f2d56f1",
   "metadata": {},
   "source": [
    "# Datasets for prediction"
   ]
  },
  {
   "cell_type": "code",
   "execution_count": 2,
   "id": "9aa6d63a",
   "metadata": {},
   "outputs": [],
   "source": [
    "user_input1={'age':65,\n",
    "'time_in_hospital':10,\n",
    "'num_lab_procedures':60,\n",
    "'num_procedures':0,\n",
    "'num_medications':15,\n",
    "'number_outpatient':0,\n",
    "'number_emergency':0,\n",
    "'number_inpatient':0,\n",
    "'number_diagnoses':9,\n",
    "'max_glu_serum':0,\n",
    "'A1Cresult':2,\n",
    "'race':2,\n",
    "'gender':0,\n",
    "'admission_type_id':0,\n",
    "'discharge_disposition_id':1,\n",
    "'admission_source_id':0,\n",
    "'diag_1':0,\n",
    "'diag_2':1,\n",
    "'diag_3':0,\n",
    "'metformin':1,\n",
    "'repaglinide':1,\n",
    "'nateglinide':1,\n",
    "'chlorpropamide':1,\n",
    "'glimepiride':1,\n",
    "'acetohexamide':0,\n",
    "'glipizide':1,\n",
    "'glyburide':1,\n",
    "'tolbutamide':0,\n",
    "'pioglitazone':1,\n",
    "'rosiglitazone':1,\n",
    "'acarbose':1,\n",
    "'miglitol':1,\n",
    "'troglitazone':0,\n",
    "'tolazamide':0,\n",
    "'examide':0,\n",
    "'citoglipton':0,\n",
    "'insulin':3,\n",
    "'glyburide-metformin':1,\n",
    "'glipizide-metformin':0,\n",
    "'glimepiride-pioglitazone':0,\n",
    "'metformin-rosiglitazone':0,\n",
    "'metformin-pioglitazone':0,\n",
    "'change':1,\n",
    "'diabetesMed':1\n",
    "}"
   ]
  },
  {
   "cell_type": "code",
   "execution_count": 3,
   "id": "6b52067c",
   "metadata": {},
   "outputs": [],
   "source": [
    "user_input0={'age':45,\n",
    "'time_in_hospital':9,\n",
    "'num_lab_procedures':47,\n",
    "'num_procedures':2,\n",
    "'num_medications':17,\n",
    "'number_outpatient':0,\n",
    "'number_emergency':0,\n",
    "'number_inpatient':0,\n",
    "'number_diagnoses':9,\n",
    "'max_glu_serum':0,\n",
    "'A1Cresult':0,\n",
    "'race':0,\n",
    "'gender':0,\n",
    "'admission_type_id':1,\n",
    "'discharge_disposition_id':1,\n",
    "'admission_source_id':0,\n",
    "'diag_1':1,\n",
    "'diag_2':0,\n",
    "'diag_3':4,\n",
    "'metformin':1,\n",
    "'repaglinide':1,\n",
    "'nateglinide':1,\n",
    "'chlorpropamide':1,\n",
    "'glimepiride':1,\n",
    "'acetohexamide':0,\n",
    "'glipizide':1,\n",
    "'glyburide':1,\n",
    "'tolbutamide':0,\n",
    "'pioglitazone':1,\n",
    "'rosiglitazone':1,\n",
    "'acarbose':1,\n",
    "'miglitol':1,\n",
    "'troglitazone':0,\n",
    "'tolazamide':0,\n",
    "'examide':0,\n",
    "'citoglipton':0,\n",
    "'insulin':2,\n",
    "'glyburide-metformin':1,\n",
    "'glipizide-metformin':0,\n",
    "'glimepiride-pioglitazone':0,\n",
    "'metformin-rosiglitazone':0,\n",
    "'metformin-pioglitazone':0,\n",
    "'change':0,\n",
    "'diabetesMed':1,\n",
    "\n",
    "}"
   ]
  },
  {
   "cell_type": "code",
   "execution_count": 4,
   "id": "2f0744f3",
   "metadata": {},
   "outputs": [],
   "source": [
    "user_input00={'age':65,\n",
    "'time_in_hospital':1,\n",
    "'num_lab_procedures':49,\n",
    "'num_procedures':5,\n",
    "'num_medications':2,\n",
    "'number_outpatient':0,\n",
    "'number_emergency':0,\n",
    "'number_inpatient':0,\n",
    "'number_diagnoses':8,\n",
    "'max_glu_serum':0,\n",
    "'A1Cresult':0,\n",
    "'race':0,\n",
    "'gender':0,\n",
    "'admission_type_id':0,\n",
    "'discharge_disposition_id':1,\n",
    "'admission_source_id':2,\n",
    "'diag_1':8,\n",
    "'diag_2':4,\n",
    "'diag_3':3,\n",
    "'metformin':1,\n",
    "'repaglinide':1,\n",
    "'nateglinide':1,\n",
    "'chlorpropamide':1,\n",
    "'glimepiride':1,\n",
    "'acetohexamide':0,\n",
    "'glipizide':1,\n",
    "'glyburide':1,\n",
    "'tolbutamide':0,\n",
    "'pioglitazone':1,\n",
    "'rosiglitazone':1,\n",
    "'acarbose':1,\n",
    "'miglitol':1,\n",
    "'troglitazone':0,\n",
    "'tolazamide':0,\n",
    "'examide':0,\n",
    "'citoglipton':0,\n",
    "'insulin':2,\n",
    "'glyburide-metformin':1,\n",
    "'glipizide-metformin':0,\n",
    "'glimepiride-pioglitazone':0,\n",
    "'metformin-rosiglitazone':0,\n",
    "'metformin-pioglitazone':0,\n",
    "'change':0,\n",
    "'diabetesMed':1,\n",
    "}"
   ]
  },
  {
   "cell_type": "code",
   "execution_count": 5,
   "id": "d64e28aa",
   "metadata": {},
   "outputs": [],
   "source": [
    "user_input11={'age':55,\n",
    "'time_in_hospital':8,\n",
    "'num_lab_procedures':73,\n",
    "'num_procedures':2,\n",
    "'num_medications':19,\n",
    "'number_outpatient':0,\n",
    "'number_emergency':0,\n",
    "'number_inpatient':0,\n",
    "'number_diagnoses':9,\n",
    "'max_glu_serum':0,\n",
    "'A1Cresult':2,\n",
    "'race':1,\n",
    "'gender':1,\n",
    "'admission_type_id':1,\n",
    "'discharge_disposition_id':1,\n",
    "'admission_source_id':0,\n",
    "'diag_1':5,\n",
    "'diag_2':1,\n",
    "'diag_3':7,\n",
    "'metformin':1,\n",
    "'repaglinide':1,\n",
    "'nateglinide':1,\n",
    "'chlorpropamide':1,\n",
    "'glimepiride':1,\n",
    "'acetohexamide':0,\n",
    "'glipizide':1,\n",
    "'glyburide':1,\n",
    "'tolbutamide':0,\n",
    "'pioglitazone':1,\n",
    "'rosiglitazone':1,\n",
    "'acarbose':1,\n",
    "'miglitol':1,\n",
    "'troglitazone':0,\n",
    "'tolazamide':0,\n",
    "'examide':0,\n",
    "'citoglipton':0,\n",
    "'insulin':3,\n",
    "'glyburide-metformin':1,\n",
    "'glipizide-metformin':0,\n",
    "'glimepiride-pioglitazone':0,\n",
    "'metformin-rosiglitazone':0,\n",
    "'metformin-pioglitazone':0,\n",
    "'change':1,\n",
    "'diabetesMed':1,\n",
    "}"
   ]
  },
  {
   "cell_type": "code",
   "execution_count": 6,
   "id": "f20e67c1",
   "metadata": {},
   "outputs": [
    {
     "name": "stdout",
     "output_type": "stream",
     "text": [
      "0\n",
      "Low risk of readmission within 30 days.\n"
     ]
    }
   ],
   "source": [
    "loaded_model = joblib.load('SVC.joblib')\n",
    "input_df = pd.DataFrame([user_input00])\n",
    "\n",
    "\n",
    "# Prediction\n",
    "prediction = loaded_model.predict(input_df)[0]\n",
    "print(prediction)\n",
    "if prediction == 1:\n",
    "    print(\"High risk of readmission within 30 days!\")\n",
    "elif prediction == 0:\n",
    "    print(\"Low risk of readmission within 30 days.\")"
   ]
  },
  {
   "cell_type": "code",
   "execution_count": 7,
   "id": "8afd4a50",
   "metadata": {},
   "outputs": [
    {
     "name": "stdout",
     "output_type": "stream",
     "text": [
      "0\n",
      "Low risk of readmission within 30 days.\n"
     ]
    }
   ],
   "source": [
    "loaded_model = joblib.load('SVC.joblib')\n",
    "input_df = pd.DataFrame([user_input11])\n",
    "\n",
    "\n",
    "# Prediction\n",
    "prediction = loaded_model.predict(input_df)[0]\n",
    "print(prediction)\n",
    "if prediction == 1:\n",
    "    print(\"High risk of readmission within 30 days!\")\n",
    "elif prediction == 0:\n",
    "    print(\"Low risk of readmission within 30 days.\")"
   ]
  },
  {
   "cell_type": "markdown",
   "id": "7aef22b0",
   "metadata": {},
   "source": [
    "## End of the Model Testing"
   ]
  }
 ],
 "metadata": {
  "kernelspec": {
   "display_name": "base",
   "language": "python",
   "name": "python3"
  },
  "language_info": {
   "codemirror_mode": {
    "name": "ipython",
    "version": 3
   },
   "file_extension": ".py",
   "mimetype": "text/x-python",
   "name": "python",
   "nbconvert_exporter": "python",
   "pygments_lexer": "ipython3",
   "version": "3.12.7"
  }
 },
 "nbformat": 4,
 "nbformat_minor": 5
}

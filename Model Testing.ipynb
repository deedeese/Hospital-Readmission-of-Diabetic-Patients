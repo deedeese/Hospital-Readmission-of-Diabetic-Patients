{
 "cells": [
  {
   "cell_type": "markdown",
   "id": "b9314d51",
   "metadata": {},
   "source": [
    "# Project on Data Sciences and Machine Learning"
   ]
  },
  {
   "cell_type": "markdown",
   "id": "658a7729",
   "metadata": {},
   "source": [
    "## Model Prediction"
   ]
  },
  {
   "cell_type": "code",
   "execution_count": 1,
   "id": "be1a0bac",
   "metadata": {},
   "outputs": [],
   "source": [
    "import pandas as pd\n",
    "\n",
    "import warnings\n",
    "warnings.filterwarnings(\"ignore\")\n",
    "\n",
    "import pickle"
   ]
  },
  {
   "cell_type": "markdown",
   "id": "6f2d56f1",
   "metadata": {},
   "source": [
    "# Datasets for prediction"
   ]
  },
  {
   "cell_type": "code",
   "execution_count": 2,
   "id": "3df799b1",
   "metadata": {},
   "outputs": [],
   "source": [
    "df_model = pd.read_csv('diabetic_data_cleanedOH.csv')\n",
    "\n",
    "\n",
    "df_predict0 = df_model[df_model.readmitted == 0].iloc[[12]]\n",
    "df_predict1 = df_model[df_model.readmitted == 1].iloc[[16]]\n",
    "df_predict1=df_predict1.drop('readmitted',axis=1)\n",
    "df_predict0=df_predict0.drop('readmitted',axis=1)"
   ]
  },
  {
   "cell_type": "code",
   "execution_count": 3,
   "id": "da657712",
   "metadata": {},
   "outputs": [
    {
     "name": "stdout",
     "output_type": "stream",
     "text": [
      "0\n",
      "Low risk of readmission within 30 days.\n"
     ]
    }
   ],
   "source": [
    "with open('Random.pkl', 'rb') as f:\n",
    "    loaded_model = pickle.load(f)\n",
    "\n",
    "# You can now use loaded_model to make predictions\n",
    "prediction = loaded_model.predict(df_predict0)[0]\n",
    "print(prediction)\n",
    "if prediction == 1:\n",
    "    print(\"High risk of readmission within 30 days!\")\n",
    "elif prediction == 0:\n",
    "    print(\"Low risk of readmission within 30 days.\")"
   ]
  },
  {
   "cell_type": "code",
   "execution_count": 4,
   "id": "de1bb377",
   "metadata": {},
   "outputs": [
    {
     "name": "stdout",
     "output_type": "stream",
     "text": [
      "1\n",
      "High risk of readmission within 30 days!\n"
     ]
    }
   ],
   "source": [
    "with open('Random.pkl', 'rb') as f:\n",
    "    loaded_model = pickle.load(f)\n",
    "\n",
    "# You can now use loaded_model to make predictions\n",
    "prediction = loaded_model.predict(df_predict1)[0]\n",
    "print(prediction)\n",
    "if prediction == 1:\n",
    "    print(\"High risk of readmission within 30 days!\")\n",
    "elif prediction == 0:\n",
    "    print(\"Low risk of readmission within 30 days.\")"
   ]
  },
  {
   "cell_type": "markdown",
   "id": "7aef22b0",
   "metadata": {},
   "source": [
    "## End of the Model Testing"
   ]
  }
 ],
 "metadata": {
  "kernelspec": {
   "display_name": "base",
   "language": "python",
   "name": "python3"
  },
  "language_info": {
   "codemirror_mode": {
    "name": "ipython",
    "version": 3
   },
   "file_extension": ".py",
   "mimetype": "text/x-python",
   "name": "python",
   "nbconvert_exporter": "python",
   "pygments_lexer": "ipython3",
   "version": "3.12.7"
  }
 },
 "nbformat": 4,
 "nbformat_minor": 5
}
